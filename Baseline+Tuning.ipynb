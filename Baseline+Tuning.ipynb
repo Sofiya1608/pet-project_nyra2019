{
 "cells": [
  {
   "cell_type": "code",
   "execution_count": 2,
   "id": "b58e4ccc",
   "metadata": {
    "id": "b58e4ccc"
   },
   "outputs": [],
   "source": [
    "import pandas as pd\n",
    "import numpy as np\n",
    "import matplotlib.pyplot as plt\n",
    "import seaborn as sns\n",
    "\n",
    "from scipy import stats\n",
    "\n",
    "from sklearn.linear_model import LinearRegression\n",
    "from sklearn import linear_model\n",
    "from sklearn.model_selection import train_test_split, StratifiedKFold, KFold\n",
    "from sklearn.metrics import mean_absolute_error, mean_squared_error, r2_score, mean_squared_log_error\n",
    "from sklearn.preprocessing import StandardScaler\n",
    "\n",
    "\n",
    "from xgboost import XGBRegressor\n",
    "from lightgbm import LGBMRegressor\n",
    "from catboost import CatBoostRegressor\n",
    "\n",
    "import warnings\n",
    "warnings.filterwarnings(\"ignore\")\n",
    "\n",
    "RAND = 10\n",
    "N_FOLDS = 5"
   ]
  },
  {
   "cell_type": "markdown",
   "id": "bb96ca6d",
   "metadata": {
    "id": "bb96ca6d"
   },
   "source": [
    "## 1. Загрузка датасета и преобразование признаков"
   ]
  },
  {
   "cell_type": "code",
   "execution_count": 3,
   "id": "842b6a13",
   "metadata": {},
   "outputs": [],
   "source": [
    "df = pd.read_csv('nyra_2019_mod.csv')"
   ]
  },
  {
   "cell_type": "code",
   "execution_count": 4,
   "id": "17ec86d8",
   "metadata": {},
   "outputs": [
    {
     "data": {
      "text/plain": [
       "track_id           0\n",
       "race_number        0\n",
       "program_number     0\n",
       "trakus_index       0\n",
       "latitude           0\n",
       "longitude          0\n",
       "distance_id        0\n",
       "course_type        0\n",
       "track_condition    0\n",
       "run_up_distance    0\n",
       "race_type          0\n",
       "purse              0\n",
       "weight_carried     0\n",
       "jockey             0\n",
       "odds_new           0\n",
       "month              0\n",
       "day                0\n",
       "day_of_week        0\n",
       "odds_log           0\n",
       "season             0\n",
       "time_of_day        0\n",
       "name_of_day        0\n",
       "dtype: int64"
      ]
     },
     "execution_count": 4,
     "metadata": {},
     "output_type": "execute_result"
    }
   ],
   "source": [
    "df.isna().sum()"
   ]
  },
  {
   "cell_type": "code",
   "execution_count": 5,
   "id": "98487548",
   "metadata": {},
   "outputs": [
    {
     "name": "stdout",
     "output_type": "stream",
     "text": [
      "<class 'pandas.core.frame.DataFrame'>\n",
      "RangeIndex: 5228430 entries, 0 to 5228429\n",
      "Data columns (total 22 columns):\n",
      " #   Column           Dtype  \n",
      "---  ------           -----  \n",
      " 0   track_id         object \n",
      " 1   race_number      int64  \n",
      " 2   program_number   object \n",
      " 3   trakus_index     int64  \n",
      " 4   latitude         float64\n",
      " 5   longitude        float64\n",
      " 6   distance_id      float64\n",
      " 7   course_type      object \n",
      " 8   track_condition  object \n",
      " 9   run_up_distance  float64\n",
      " 10  race_type        object \n",
      " 11  purse            int64  \n",
      " 12  weight_carried   float64\n",
      " 13  jockey           object \n",
      " 14  odds_new         float64\n",
      " 15  month            int64  \n",
      " 16  day              int64  \n",
      " 17  day_of_week      int64  \n",
      " 18  odds_log         float64\n",
      " 19  season           object \n",
      " 20  time_of_day      object \n",
      " 21  name_of_day      object \n",
      "dtypes: float64(7), int64(6), object(9)\n",
      "memory usage: 877.6+ MB\n"
     ]
    }
   ],
   "source": [
    "df.info()"
   ]
  },
  {
   "cell_type": "markdown",
   "id": "8ad0e4d6",
   "metadata": {},
   "source": [
    "Для дальнейшей работы следует перевести признаки типа \"object\" в \"category\""
   ]
  },
  {
   "cell_type": "code",
   "execution_count": 6,
   "id": "7a1ed94f",
   "metadata": {},
   "outputs": [],
   "source": [
    "# список признаков object\n",
    "category_features = [\n",
    "    'track_id', 'program_number', 'course_type', 'track_condition',\n",
    "    'race_type', 'jockey', 'season', 'time_of_day', 'name_of_day'\n",
    "]"
   ]
  },
  {
   "cell_type": "code",
   "execution_count": 7,
   "id": "16ac4e44",
   "metadata": {},
   "outputs": [],
   "source": [
    "# цикл для перевода\n",
    "for col in df.columns:\n",
    "    if col in category_features:\n",
    "        df[col] = df[col].astype('category')"
   ]
  },
  {
   "cell_type": "markdown",
   "id": "6bca345a",
   "metadata": {},
   "source": [
    "Также, чтоб датасет был поменьше, то стоит перевести из int64 -> int16 и из float64->float16"
   ]
  },
  {
   "cell_type": "code",
   "execution_count": 8,
   "id": "30924292",
   "metadata": {},
   "outputs": [],
   "source": [
    "# список данных типа int64\n",
    "list_int64 = ['race_number', 'trakus_index', 'purse', 'post_time', 'weight_carried',\n",
    "             'month', 'day', 'day_of_week', 'hours', 'minutes']\n",
    "\n",
    "# список данных типа float64\n",
    "list_float64 = ['latitude', 'longitude', 'distance_id', 'run_up_distance', 'odds_new',\n",
    "               'odds_log']"
   ]
  },
  {
   "cell_type": "code",
   "execution_count": 9,
   "id": "f063351f",
   "metadata": {},
   "outputs": [],
   "source": [
    "# перевод\n",
    "for col in df.columns:\n",
    "    if col in list_int64:\n",
    "        df[col] = df[col].astype('int16')\n",
    "    elif col in list_float64:\n",
    "        df[col] = df[col].astype('float16')"
   ]
  },
  {
   "cell_type": "code",
   "execution_count": 10,
   "id": "84a562fb",
   "metadata": {},
   "outputs": [
    {
     "name": "stdout",
     "output_type": "stream",
     "text": [
      "<class 'pandas.core.frame.DataFrame'>\n",
      "RangeIndex: 5228430 entries, 0 to 5228429\n",
      "Data columns (total 22 columns):\n",
      " #   Column           Dtype   \n",
      "---  ------           -----   \n",
      " 0   track_id         category\n",
      " 1   race_number      int16   \n",
      " 2   program_number   category\n",
      " 3   trakus_index     int16   \n",
      " 4   latitude         float16 \n",
      " 5   longitude        float16 \n",
      " 6   distance_id      float16 \n",
      " 7   course_type      category\n",
      " 8   track_condition  category\n",
      " 9   run_up_distance  float16 \n",
      " 10  race_type        category\n",
      " 11  purse            int16   \n",
      " 12  weight_carried   int16   \n",
      " 13  jockey           category\n",
      " 14  odds_new         float16 \n",
      " 15  month            int16   \n",
      " 16  day              int16   \n",
      " 17  day_of_week      int16   \n",
      " 18  odds_log         float16 \n",
      " 19  season           category\n",
      " 20  time_of_day      category\n",
      " 21  name_of_day      category\n",
      "dtypes: category(9), float16(6), int16(7)\n",
      "memory usage: 179.5 MB\n"
     ]
    }
   ],
   "source": [
    "df.info()"
   ]
  },
  {
   "cell_type": "markdown",
   "id": "87530852",
   "metadata": {},
   "source": [
    "Для некоторых моделей следует бинаризовать категориальный признаки, используя метод pd.get_dummies()"
   ]
  },
  {
   "cell_type": "code",
   "execution_count": 11,
   "id": "e5087eea",
   "metadata": {},
   "outputs": [],
   "source": [
    "df_label = pd.get_dummies(df, columns=category_features, drop_first=True)"
   ]
  },
  {
   "cell_type": "markdown",
   "id": "ee5255d7",
   "metadata": {},
   "source": [
    "## 2. Обучение"
   ]
  },
  {
   "cell_type": "markdown",
   "id": "e43f5f75",
   "metadata": {},
   "source": [
    "### Один из важных признаков - это \"odds\". Чем лучше он сформирован, тем более понятны шансы на выигрыш и вообще шансы лошади на скачках. Поэтому в данном случае будут применены модели по улучшению показателей признака odds."
   ]
  },
  {
   "cell_type": "markdown",
   "id": "86ea680a",
   "metadata": {},
   "source": [
    "Будут применены следующие модели:\n",
    "\n",
    "- Линейная регрессия;\n",
    "- CatBoost;\n",
    "- LightGBMRegression."
   ]
  },
  {
   "cell_type": "markdown",
   "id": "d9ff01d5",
   "metadata": {},
   "source": [
    "Метрики, по которым будут оцениваться результаты"
   ]
  },
  {
   "cell_type": "code",
   "execution_count": 11,
   "id": "941d0fb8",
   "metadata": {},
   "outputs": [],
   "source": [
    "metrics = pd.DataFrame()"
   ]
  },
  {
   "cell_type": "code",
   "execution_count": 12,
   "id": "f2584a94",
   "metadata": {},
   "outputs": [],
   "source": [
    "def r2_adjusted(y_true: list, y_pred: list, X_test: np.array) -> float:\n",
    "    \"\"\"\n",
    "    Коэффициент детерминации (множеств регрессия)\n",
    "    \"\"\"\n",
    "    N_objects = len(y_true)\n",
    "    N_features = X_test.shape[1]\n",
    "    r2 = r2_score(y_true, y_pred)\n",
    "    return 1 - (1 - r2) * (N_objects - 1) / (N_objects - N_features - 1)\n",
    "\n",
    "\n",
    "def huber_loss(y_true, y_pred, delta):\n",
    "    \"\"\"\n",
    "    Функция ошибки Хьюбера (MSE & MAE)\n",
    "    \"\"\"\n",
    "    assert len(y_true) == len(y_pred), 'Разные размеры данных'\n",
    "    huber_sum = 0\n",
    "    for i in range(len(y_true)):\n",
    "        if abs(y_true[i] - y_pred[i]) <= delta:\n",
    "            huber_sum += 0.5 * (y_true[i] - y_pred[i])**2\n",
    "        else:\n",
    "            huber_sum += delta * (abs(y_true[i] - y_pred[i]) -\n",
    "                                  0.5 * delta)\n",
    "    huber_sum /= len(y_true)\n",
    "    return huber_sum\n",
    "\n",
    "\n",
    "def rmsle(y_true: np.ndarray, y_pred: np.ndarray) -> np.float64:\n",
    "    \"\"\"\n",
    "    The Root Mean Squared Log Error (RMSLE) metric \n",
    "    Логаритмическая ошибка средней квадратичной ошибки\n",
    "    \"\"\"\n",
    "    return np.sqrt(mean_squared_log_error(y_true, y_pred))\n",
    "\n",
    "\n",
    "def get_metrics(y_test, y_pred, X_test, name, delta):  # выводим метрики\n",
    "    df_metrics = pd.DataFrame()\n",
    "\n",
    "    df_metrics['model'] = [name]\n",
    "\n",
    "    df_metrics['MAE'] = [mean_absolute_error(y_test, y_pred)]\n",
    "    df_metrics['MSE'] = [mean_squared_error(y_test, y_pred)]\n",
    "    df_metrics['RMSE'] = [np.sqrt(mean_squared_error(y_test, y_pred))]\n",
    "    try:\n",
    "        df_metrics['RMSLE'] = [rmsle(y_test, y_pred)]\n",
    "    except:\n",
    "        df_metrics['RMSLE'] = 0\n",
    "\n",
    "    df_metrics['R2 adjusted'] = [r2_adjusted(y_test, y_pred, X_test)]\n",
    "    df_metrics['Huber_loss'] = [huber_loss(y_test, y_pred, delta)]\n",
    "\n",
    "    return df_metrics"
   ]
  },
  {
   "cell_type": "markdown",
   "id": "de122e11",
   "metadata": {},
   "source": [
    "Такие метрики, как WAPE, MPE, WAPE применять нерелевантно, так как переменная odds имеет нулевые значения, то при делении метрики будут уходить в бесконечность или иметь нулевые значения"
   ]
  },
  {
   "cell_type": "markdown",
   "id": "e15919a3",
   "metadata": {},
   "source": [
    "Также следует проверять алгоритм на переобучение"
   ]
  },
  {
   "cell_type": "code",
   "execution_count": 13,
   "id": "01d1e8ce",
   "metadata": {},
   "outputs": [],
   "source": [
    "def check_overfitting(model, X_train, y_train, X_test, y_test):\n",
    "    \"\"\"\n",
    "    Проверка на overfitting\n",
    "    \"\"\"\n",
    "    y_pred_train = model.predict(X_train)\n",
    "    y_pred_test = model.predict(X_test)\n",
    "\n",
    "    print(f'MSE train: %.3f' % mean_squared_error(y_train, y_pred_train))\n",
    "    print(f'MSE test: %.3f' % mean_squared_error(y_test, y_pred_test))\n",
    "\n",
    "    print(f'R2 adjusted: %.3f' % r2_adjusted(y_train, y_pred_train, X_test))\n",
    "    print(f'R2 adjusted: %.3f' % r2_adjusted(y_test, y_pred, X_test))"
   ]
  },
  {
   "cell_type": "markdown",
   "id": "2bb526b4",
   "metadata": {},
   "source": [
    "### 2.1 Линейная регрессия"
   ]
  },
  {
   "cell_type": "code",
   "execution_count": 14,
   "id": "ba8f6983",
   "metadata": {},
   "outputs": [],
   "source": [
    "X = df_label.drop(columns=['odds_log', 'odds_new'], axis=1)\n",
    "y = df_label['odds_log'].values\n",
    "\n",
    "# разбиение на train/test\n",
    "X_train, X_test, y_train, y_test = train_test_split(\n",
    "    X, y, test_size=0.2, random_state=RAND)"
   ]
  },
  {
   "cell_type": "code",
   "execution_count": 15,
   "id": "d4988e5d",
   "metadata": {},
   "outputs": [],
   "source": [
    "# стандартизация данных\n",
    "st = StandardScaler()\n",
    "X_train_std = st.fit_transform(X_train) \n",
    "X_test_std = st.transform(X_test) "
   ]
  },
  {
   "cell_type": "code",
   "execution_count": 17,
   "id": "d4698377",
   "metadata": {},
   "outputs": [
    {
     "data": {
      "text/plain": [
       "LinearRegression()"
      ]
     },
     "execution_count": 17,
     "metadata": {},
     "output_type": "execute_result"
    }
   ],
   "source": [
    "# решение при помощи стандартной библиотеки\n",
    "lr = LinearRegression()\n",
    "lr.fit(X_train_std, y_train)"
   ]
  },
  {
   "cell_type": "code",
   "execution_count": 18,
   "id": "1fae2607",
   "metadata": {
    "scrolled": true
   },
   "outputs": [
    {
     "data": {
      "text/html": [
       "<div>\n",
       "<style scoped>\n",
       "    .dataframe tbody tr th:only-of-type {\n",
       "        vertical-align: middle;\n",
       "    }\n",
       "\n",
       "    .dataframe tbody tr th {\n",
       "        vertical-align: top;\n",
       "    }\n",
       "\n",
       "    .dataframe thead th {\n",
       "        text-align: right;\n",
       "    }\n",
       "</style>\n",
       "<table border=\"1\" class=\"dataframe\">\n",
       "  <thead>\n",
       "    <tr style=\"text-align: right;\">\n",
       "      <th></th>\n",
       "      <th>MAE</th>\n",
       "      <th>MSE</th>\n",
       "      <th>RMSE</th>\n",
       "      <th>RMSLE</th>\n",
       "      <th>R2 adjusted</th>\n",
       "      <th>Huber_loss</th>\n",
       "    </tr>\n",
       "    <tr>\n",
       "      <th>model</th>\n",
       "      <th></th>\n",
       "      <th></th>\n",
       "      <th></th>\n",
       "      <th></th>\n",
       "      <th></th>\n",
       "      <th></th>\n",
       "    </tr>\n",
       "  </thead>\n",
       "  <tbody>\n",
       "    <tr>\n",
       "      <th>LinearRegression</th>\n",
       "      <td>9.108</td>\n",
       "      <td>265.722992</td>\n",
       "      <td>16.301001</td>\n",
       "      <td>0.78</td>\n",
       "      <td>0.302</td>\n",
       "      <td>59.382</td>\n",
       "    </tr>\n",
       "  </tbody>\n",
       "</table>\n",
       "</div>"
      ],
      "text/plain": [
       "                    MAE         MSE       RMSE  RMSLE  R2 adjusted  Huber_loss\n",
       "model                                                                         \n",
       "LinearRegression  9.108  265.722992  16.301001   0.78        0.302      59.382"
      ]
     },
     "execution_count": 18,
     "metadata": {},
     "output_type": "execute_result"
    }
   ],
   "source": [
    "y_pred = lr.predict(X_test_std)\n",
    "\n",
    "metrics = metrics.append(\n",
    "    get_metrics(np.exp(y_test) - 1, \n",
    "                np.exp(y_pred) - 1, \n",
    "                X_test_std, \n",
    "                name='LinearRegression',\n",
    "                delta=10))\n",
    "\n",
    "round(metrics.set_index('model'), 3)"
   ]
  },
  {
   "cell_type": "code",
   "execution_count": 19,
   "id": "1ac9e5d4",
   "metadata": {},
   "outputs": [
    {
     "name": "stdout",
     "output_type": "stream",
     "text": [
      "MSE train: 5628.814\n",
      "MSE test: 0.608\n",
      "R2 adjusted: -5663.975\n",
      "R2 adjusted: 0.387\n"
     ]
    }
   ],
   "source": [
    "check_overfitting(lr, X_train, y_train, X_test_std, y_test)"
   ]
  },
  {
   "cell_type": "markdown",
   "id": "cb577064",
   "metadata": {},
   "source": [
    "\"+\" Метод довольно простой и быстрый.\n",
    "\n",
    "\"-\" По проверке на переобучение заметно, что модель переобучается. \n",
    "\n",
    "\"-\" Также данный метод не работает с категориальными признаками.\n",
    "\n",
    "Данный алгоритм не подходит для данной задачи."
   ]
  },
  {
   "cell_type": "markdown",
   "id": "b46072c6",
   "metadata": {},
   "source": [
    "### 2.2 Catboost"
   ]
  },
  {
   "cell_type": "code",
   "execution_count": 20,
   "id": "ba72c9ec",
   "metadata": {
    "id": "ba72c9ec"
   },
   "outputs": [],
   "source": [
    "X = df.drop(columns=['odds_log', 'odds_new'],\n",
    "                   axis=1)  # матрица признаков\n",
    "y = df['odds_log'].values # таргет\n",
    "\n",
    "X_train, X_test, y_train, y_test = train_test_split(X,\n",
    "                                                    y,\n",
    "                                                    test_size=0.2,\n",
    "                                                    stratify=y,\n",
    "                                                    random_state=RAND)\n",
    "\n",
    "# разбиение на train/validation/test\n",
    "X_train_, X_val, y_train_, y_val = train_test_split(X_train,\n",
    "                                                    y_train,\n",
    "                                                    test_size=0.16,\n",
    "                                                    shuffle=True,\n",
    "                                                    random_state=RAND)"
   ]
  },
  {
   "cell_type": "code",
   "execution_count": 21,
   "id": "2950813d",
   "metadata": {
    "scrolled": true
   },
   "outputs": [
    {
     "name": "stdout",
     "output_type": "stream",
     "text": [
      "0:\tlearn: 0.7196655\ttest: 0.7189791\tbest: 0.7189791 (0)\ttotal: 966ms\tremaining: 1m 35s\n",
      "2:\tlearn: 0.6623999\ttest: 0.6610009\tbest: 0.6610009 (2)\ttotal: 2.22s\tremaining: 1m 11s\n",
      "4:\tlearn: 0.6486533\ttest: 0.6474912\tbest: 0.6474912 (4)\ttotal: 3.22s\tremaining: 1m 1s\n",
      "6:\tlearn: 0.6407326\ttest: 0.6396904\tbest: 0.6396904 (6)\ttotal: 4.25s\tremaining: 56.5s\n",
      "8:\tlearn: 0.6357329\ttest: 0.6347613\tbest: 0.6347613 (8)\ttotal: 5.39s\tremaining: 54.5s\n",
      "10:\tlearn: 0.6298453\ttest: 0.6286462\tbest: 0.6286462 (10)\ttotal: 6.24s\tremaining: 50.5s\n",
      "12:\tlearn: 0.6257842\ttest: 0.6246281\tbest: 0.6246281 (12)\ttotal: 7.19s\tremaining: 48.1s\n",
      "14:\tlearn: 0.6216438\ttest: 0.6204533\tbest: 0.6204533 (14)\ttotal: 8.04s\tremaining: 45.6s\n",
      "16:\tlearn: 0.6183435\ttest: 0.6171666\tbest: 0.6171666 (16)\ttotal: 8.93s\tremaining: 43.6s\n",
      "18:\tlearn: 0.6156474\ttest: 0.6145540\tbest: 0.6145540 (18)\ttotal: 9.75s\tremaining: 41.6s\n",
      "20:\tlearn: 0.6114087\ttest: 0.6102208\tbest: 0.6102208 (20)\ttotal: 10.8s\tremaining: 40.5s\n",
      "22:\tlearn: 0.6075023\ttest: 0.6062552\tbest: 0.6062552 (22)\ttotal: 11.7s\tremaining: 39.1s\n",
      "24:\tlearn: 0.6041456\ttest: 0.6029565\tbest: 0.6029565 (24)\ttotal: 12.5s\tremaining: 37.5s\n",
      "26:\tlearn: 0.6021312\ttest: 0.6009118\tbest: 0.6009118 (26)\ttotal: 13.3s\tremaining: 36s\n",
      "28:\tlearn: 0.5998887\ttest: 0.5987207\tbest: 0.5987207 (28)\ttotal: 14.2s\tremaining: 34.6s\n",
      "30:\tlearn: 0.5971046\ttest: 0.5959686\tbest: 0.5959686 (30)\ttotal: 14.9s\tremaining: 33.2s\n",
      "32:\tlearn: 0.5940655\ttest: 0.5929856\tbest: 0.5929856 (32)\ttotal: 15.7s\tremaining: 31.8s\n",
      "34:\tlearn: 0.5914814\ttest: 0.5903526\tbest: 0.5903526 (34)\ttotal: 16.5s\tremaining: 30.6s\n",
      "36:\tlearn: 0.5882378\ttest: 0.5869644\tbest: 0.5869644 (36)\ttotal: 17.4s\tremaining: 29.6s\n",
      "38:\tlearn: 0.5859448\ttest: 0.5846340\tbest: 0.5846340 (38)\ttotal: 18.2s\tremaining: 28.4s\n",
      "40:\tlearn: 0.5832490\ttest: 0.5819712\tbest: 0.5819712 (40)\ttotal: 19.1s\tremaining: 27.5s\n",
      "42:\tlearn: 0.5812736\ttest: 0.5799743\tbest: 0.5799743 (42)\ttotal: 19.9s\tremaining: 26.4s\n",
      "44:\tlearn: 0.5787659\ttest: 0.5774999\tbest: 0.5774999 (44)\ttotal: 20.7s\tremaining: 25.3s\n",
      "46:\tlearn: 0.5761549\ttest: 0.5748780\tbest: 0.5748780 (46)\ttotal: 21.5s\tremaining: 24.2s\n",
      "48:\tlearn: 0.5739307\ttest: 0.5725765\tbest: 0.5725765 (48)\ttotal: 22.4s\tremaining: 23.3s\n",
      "50:\tlearn: 0.5723709\ttest: 0.5710155\tbest: 0.5710155 (50)\ttotal: 23.2s\tremaining: 22.3s\n",
      "52:\tlearn: 0.5700170\ttest: 0.5686103\tbest: 0.5686103 (52)\ttotal: 24.1s\tremaining: 21.4s\n",
      "54:\tlearn: 0.5676473\ttest: 0.5662721\tbest: 0.5662721 (54)\ttotal: 24.8s\tremaining: 20.3s\n",
      "56:\tlearn: 0.5655840\ttest: 0.5642608\tbest: 0.5642608 (56)\ttotal: 25.5s\tremaining: 19.3s\n",
      "58:\tlearn: 0.5632252\ttest: 0.5618539\tbest: 0.5618539 (58)\ttotal: 26.3s\tremaining: 18.3s\n",
      "60:\tlearn: 0.5615072\ttest: 0.5602116\tbest: 0.5602116 (60)\ttotal: 27s\tremaining: 17.3s\n",
      "62:\tlearn: 0.5599420\ttest: 0.5586098\tbest: 0.5586098 (62)\ttotal: 27.8s\tremaining: 16.3s\n",
      "64:\tlearn: 0.5577524\ttest: 0.5563316\tbest: 0.5563316 (64)\ttotal: 28.8s\tremaining: 15.5s\n",
      "66:\tlearn: 0.5557142\ttest: 0.5542556\tbest: 0.5542556 (66)\ttotal: 29.6s\tremaining: 14.6s\n",
      "68:\tlearn: 0.5539617\ttest: 0.5524179\tbest: 0.5524179 (68)\ttotal: 30.4s\tremaining: 13.7s\n",
      "70:\tlearn: 0.5519170\ttest: 0.5503707\tbest: 0.5503707 (70)\ttotal: 31.2s\tremaining: 12.7s\n",
      "72:\tlearn: 0.5498181\ttest: 0.5482538\tbest: 0.5482538 (72)\ttotal: 32s\tremaining: 11.8s\n",
      "74:\tlearn: 0.5483165\ttest: 0.5467391\tbest: 0.5467391 (74)\ttotal: 32.8s\tremaining: 10.9s\n",
      "76:\tlearn: 0.5470333\ttest: 0.5454998\tbest: 0.5454998 (76)\ttotal: 33.7s\tremaining: 10.1s\n",
      "78:\tlearn: 0.5451191\ttest: 0.5435716\tbest: 0.5435716 (78)\ttotal: 34.5s\tremaining: 9.18s\n",
      "80:\tlearn: 0.5435406\ttest: 0.5420367\tbest: 0.5420367 (80)\ttotal: 35.4s\tremaining: 8.3s\n",
      "82:\tlearn: 0.5421510\ttest: 0.5406506\tbest: 0.5406506 (82)\ttotal: 36.2s\tremaining: 7.41s\n",
      "84:\tlearn: 0.5404968\ttest: 0.5391094\tbest: 0.5391094 (84)\ttotal: 37s\tremaining: 6.53s\n",
      "86:\tlearn: 0.5392311\ttest: 0.5378104\tbest: 0.5378104 (86)\ttotal: 37.8s\tremaining: 5.65s\n",
      "88:\tlearn: 0.5376901\ttest: 0.5362366\tbest: 0.5362366 (88)\ttotal: 38.6s\tremaining: 4.78s\n",
      "90:\tlearn: 0.5360234\ttest: 0.5346243\tbest: 0.5346243 (90)\ttotal: 39.5s\tremaining: 3.9s\n",
      "92:\tlearn: 0.5342140\ttest: 0.5327537\tbest: 0.5327537 (92)\ttotal: 40.3s\tremaining: 3.03s\n",
      "94:\tlearn: 0.5318793\ttest: 0.5304412\tbest: 0.5304412 (94)\ttotal: 41.1s\tremaining: 2.16s\n",
      "96:\tlearn: 0.5301447\ttest: 0.5286708\tbest: 0.5286708 (96)\ttotal: 41.9s\tremaining: 1.29s\n",
      "98:\tlearn: 0.5282616\ttest: 0.5268440\tbest: 0.5268440 (98)\ttotal: 42.6s\tremaining: 430ms\n",
      "99:\tlearn: 0.5274572\ttest: 0.5260212\tbest: 0.5260212 (99)\ttotal: 43s\tremaining: 0us\n",
      "\n",
      "bestTest = 0.5260211612\n",
      "bestIteration = 99\n",
      "\n",
      "CPU times: user 4min 37s, sys: 12.7 s, total: 4min 50s\n",
      "Wall time: 52.9 s\n"
     ]
    }
   ],
   "source": [
    "%%time\n",
    "\n",
    "cat_features = X_val.select_dtypes('category').columns.tolist()\n",
    "\n",
    "clf = CatBoostRegressor(random_state=RAND,\n",
    "                        n_estimators=100,\n",
    "                        learning_rate = 0.5,\n",
    "                        eval_metric=\"MAE\",\n",
    "                        cat_features=cat_features)\n",
    "eval_set = [(X_val, y_val)]\n",
    "\n",
    "clf.fit(X_train_,\n",
    "        y_train_,\n",
    "        eval_set=eval_set,\n",
    "        verbose=2,\n",
    "        early_stopping_rounds=100)\n",
    "\n",
    "y_pred = clf.predict(X_test)"
   ]
  },
  {
   "cell_type": "code",
   "execution_count": 22,
   "id": "e8ecbc4f",
   "metadata": {},
   "outputs": [
    {
     "data": {
      "text/html": [
       "<div>\n",
       "<style scoped>\n",
       "    .dataframe tbody tr th:only-of-type {\n",
       "        vertical-align: middle;\n",
       "    }\n",
       "\n",
       "    .dataframe tbody tr th {\n",
       "        vertical-align: top;\n",
       "    }\n",
       "\n",
       "    .dataframe thead th {\n",
       "        text-align: right;\n",
       "    }\n",
       "</style>\n",
       "<table border=\"1\" class=\"dataframe\">\n",
       "  <thead>\n",
       "    <tr style=\"text-align: right;\">\n",
       "      <th></th>\n",
       "      <th>MAE</th>\n",
       "      <th>MSE</th>\n",
       "      <th>RMSE</th>\n",
       "      <th>RMSLE</th>\n",
       "      <th>R2 adjusted</th>\n",
       "      <th>Huber_loss</th>\n",
       "    </tr>\n",
       "    <tr>\n",
       "      <th>model</th>\n",
       "      <th></th>\n",
       "      <th></th>\n",
       "      <th></th>\n",
       "      <th></th>\n",
       "      <th></th>\n",
       "      <th></th>\n",
       "    </tr>\n",
       "  </thead>\n",
       "  <tbody>\n",
       "    <tr>\n",
       "      <th>LinearRegression</th>\n",
       "      <td>9.108</td>\n",
       "      <td>265.723</td>\n",
       "      <td>16.301</td>\n",
       "      <td>0.78</td>\n",
       "      <td>0.302</td>\n",
       "      <td>59.382</td>\n",
       "    </tr>\n",
       "    <tr>\n",
       "      <th>Catboost</th>\n",
       "      <td>7.647</td>\n",
       "      <td>195.560</td>\n",
       "      <td>13.984</td>\n",
       "      <td>0.66</td>\n",
       "      <td>0.487</td>\n",
       "      <td>7.176</td>\n",
       "    </tr>\n",
       "  </tbody>\n",
       "</table>\n",
       "</div>"
      ],
      "text/plain": [
       "                    MAE      MSE    RMSE  RMSLE  R2 adjusted  Huber_loss\n",
       "model                                                                   \n",
       "LinearRegression  9.108  265.723  16.301   0.78        0.302      59.382\n",
       "Catboost          7.647  195.560  13.984   0.66        0.487       7.176"
      ]
     },
     "execution_count": 22,
     "metadata": {},
     "output_type": "execute_result"
    }
   ],
   "source": [
    "metrics = metrics.append(\n",
    "    get_metrics(y_test=np.exp(y_test) - 1,\n",
    "                y_pred=np.exp(y_pred) - 1, \n",
    "                X_test=X_test, \n",
    "                name='Catboost',\n",
    "                delta=1))\n",
    "\n",
    "round(metrics.set_index('model'), 3)"
   ]
  },
  {
   "cell_type": "code",
   "execution_count": 23,
   "id": "cce9d296",
   "metadata": {},
   "outputs": [
    {
     "name": "stdout",
     "output_type": "stream",
     "text": [
      "MSE train: 0.434\n",
      "MSE test: 0.435\n",
      "R2 adjusted: 0.563\n",
      "R2 adjusted: 0.562\n"
     ]
    }
   ],
   "source": [
    "check_overfitting(clf, X_train, y_train, X_test, y_test)"
   ]
  },
  {
   "cell_type": "markdown",
   "id": "94913fd9",
   "metadata": {},
   "source": [
    "\"+\" Метод работает с категориальными признаками. \n",
    "\n",
    "\"+\" Переобучения нет\n",
    "\n",
    "\"-\" Слишком ресурснозатратный. Но при большем количестве итераций считает лучше метрики."
   ]
  },
  {
   "cell_type": "markdown",
   "id": "8a31cc51",
   "metadata": {
    "id": "8a31cc51"
   },
   "source": [
    "### 2.3 LGBMRegressor"
   ]
  },
  {
   "cell_type": "code",
   "execution_count": 24,
   "id": "09b0cec2",
   "metadata": {
    "id": "09b0cec2"
   },
   "outputs": [
    {
     "name": "stdout",
     "output_type": "stream",
     "text": [
      "CPU times: user 1min 28s, sys: 8.31 s, total: 1min 37s\n",
      "Wall time: 13.9 s\n"
     ]
    }
   ],
   "source": [
    "%%time\n",
    "\n",
    "lgbr = LGBMRegressor(random_state=RAND, objective='mae')\n",
    "eval_set = [(X_val, y_val)]\n",
    "\n",
    "lgbr.fit(X_train_,\n",
    "        y_train_,\n",
    "        eval_metric=\"mae\", \n",
    "        eval_set=eval_set,\n",
    "        verbose=False,\n",
    "        early_stopping_rounds=100)\n",
    "\n",
    "y_pred = lgbr.predict(X_test)"
   ]
  },
  {
   "cell_type": "code",
   "execution_count": 25,
   "id": "0b1ce2a2",
   "metadata": {
    "id": "0b1ce2a2",
    "outputId": "62c4a492-9128-4379-c790-17c63fb1484d"
   },
   "outputs": [
    {
     "data": {
      "text/html": [
       "<div>\n",
       "<style scoped>\n",
       "    .dataframe tbody tr th:only-of-type {\n",
       "        vertical-align: middle;\n",
       "    }\n",
       "\n",
       "    .dataframe tbody tr th {\n",
       "        vertical-align: top;\n",
       "    }\n",
       "\n",
       "    .dataframe thead th {\n",
       "        text-align: right;\n",
       "    }\n",
       "</style>\n",
       "<table border=\"1\" class=\"dataframe\">\n",
       "  <thead>\n",
       "    <tr style=\"text-align: right;\">\n",
       "      <th></th>\n",
       "      <th>MAE</th>\n",
       "      <th>MSE</th>\n",
       "      <th>RMSE</th>\n",
       "      <th>RMSLE</th>\n",
       "      <th>R2 adjusted</th>\n",
       "      <th>Huber_loss</th>\n",
       "    </tr>\n",
       "    <tr>\n",
       "      <th>model</th>\n",
       "      <th></th>\n",
       "      <th></th>\n",
       "      <th></th>\n",
       "      <th></th>\n",
       "      <th></th>\n",
       "      <th></th>\n",
       "    </tr>\n",
       "  </thead>\n",
       "  <tbody>\n",
       "    <tr>\n",
       "      <th>LinearRegression</th>\n",
       "      <td>9.108</td>\n",
       "      <td>265.723</td>\n",
       "      <td>16.301</td>\n",
       "      <td>0.780</td>\n",
       "      <td>0.302</td>\n",
       "      <td>59.382</td>\n",
       "    </tr>\n",
       "    <tr>\n",
       "      <th>Catboost</th>\n",
       "      <td>7.647</td>\n",
       "      <td>195.560</td>\n",
       "      <td>13.984</td>\n",
       "      <td>0.660</td>\n",
       "      <td>0.487</td>\n",
       "      <td>7.176</td>\n",
       "    </tr>\n",
       "    <tr>\n",
       "      <th>LGBMRegressor</th>\n",
       "      <td>7.968</td>\n",
       "      <td>225.845</td>\n",
       "      <td>15.028</td>\n",
       "      <td>0.714</td>\n",
       "      <td>0.408</td>\n",
       "      <td>7.515</td>\n",
       "    </tr>\n",
       "  </tbody>\n",
       "</table>\n",
       "</div>"
      ],
      "text/plain": [
       "                    MAE      MSE    RMSE  RMSLE  R2 adjusted  Huber_loss\n",
       "model                                                                   \n",
       "LinearRegression  9.108  265.723  16.301  0.780        0.302      59.382\n",
       "Catboost          7.647  195.560  13.984  0.660        0.487       7.176\n",
       "LGBMRegressor     7.968  225.845  15.028  0.714        0.408       7.515"
      ]
     },
     "execution_count": 25,
     "metadata": {},
     "output_type": "execute_result"
    }
   ],
   "source": [
    "metrics = metrics.append(\n",
    "    get_metrics(y_test=np.exp(y_test) - 1,\n",
    "                y_pred=np.exp(y_pred) - 1,\n",
    "                X_test=X_test,\n",
    "                name='LGBMRegressor',\n",
    "                delta=1))\n",
    "\n",
    "round(metrics.set_index('model'), 3)"
   ]
  },
  {
   "cell_type": "code",
   "execution_count": 26,
   "id": "f3f444c1",
   "metadata": {
    "id": "f3f444c1"
   },
   "outputs": [
    {
     "name": "stdout",
     "output_type": "stream",
     "text": [
      "MSE train: 0.509\n",
      "MSE test: 0.510\n",
      "R2 adjusted: 0.487\n",
      "R2 adjusted: 0.487\n"
     ]
    }
   ],
   "source": [
    "check_overfitting(lgbr, X_train, y_train, X_test, y_test)"
   ]
  },
  {
   "cell_type": "markdown",
   "id": "349bbae6",
   "metadata": {},
   "source": [
    "\"+\" Метод работает с категориальными признаками.\n",
    "\n",
    "\"+\" Переобучения нет.\n",
    "\n",
    "\"+\" Работает быстро."
   ]
  },
  {
   "cell_type": "markdown",
   "id": "5f1c83ac",
   "metadata": {},
   "source": [
    "Наиболее подходящий метод для данной задачи - CatBoostRegressor. При помощи библиотеки \"Optuna\" можно улучшить значения метрик."
   ]
  },
  {
   "cell_type": "markdown",
   "id": "ec0bca15",
   "metadata": {},
   "source": [
    "## 3. Tuning"
   ]
  },
  {
   "cell_type": "code",
   "execution_count": 27,
   "id": "ecad3770",
   "metadata": {},
   "outputs": [],
   "source": [
    "import optuna"
   ]
  },
  {
   "cell_type": "code",
   "execution_count": 28,
   "id": "1424b8dd",
   "metadata": {},
   "outputs": [],
   "source": [
    "X = df.drop(columns=['odds_log', 'odds_new'],\n",
    "                   axis=1)  # матрица признаков\n",
    "y = df['odds_log'] # таргет\n",
    "\n",
    "X_train, X_test, y_train, y_test = train_test_split(X,\n",
    "                                                    y,\n",
    "                                                    test_size=0.2,\n",
    "                                                    stratify=y,\n",
    "                                                    random_state=RAND)\n",
    "\n",
    "# разбиение на train/validation/test\n",
    "X_train_, X_val, y_train_, y_val = train_test_split(X_train,\n",
    "                                                    y_train,\n",
    "                                                    test_size=0.16,\n",
    "                                                    shuffle=True,\n",
    "                                                    random_state=RAND)"
   ]
  },
  {
   "cell_type": "code",
   "execution_count": 29,
   "id": "6f2b149d",
   "metadata": {},
   "outputs": [],
   "source": [
    "from catboost import Pool\n",
    "\n",
    "cat_feat = X_train.select_dtypes('category').columns.tolist()\n",
    "\n",
    "# целевая функция\n",
    "def objective_lgb(trial, X, y, N_FOLDS, random_state, cat_feat):\n",
    "    params = {\n",
    "        \"n_estimators\": trial.suggest_categorical(\"n_estimators\", [100]),\n",
    "        \"learning_rate\": trial.suggest_float(\"learning_rate\", 0.001, 0.3, log=True), #0.07\n",
    "        #\"max_depth\": trial.suggest_int(\"max_depth\", 3, 12),\n",
    "        #\"l2_leaf_reg\": trial.suggest_uniform(\"l2_leaf_reg\", 1e-5, 1e2),        \n",
    "        #'random_strength': trial.suggest_uniform('random_strength',10,50),\n",
    "        #\"bootstrap_type\": trial.suggest_categorical(\"bootstrap_type\", [\"Bayesian\", \"Bernoulli\", \"MVS\", \"No\"]),\n",
    "        #'border_count': trial.suggest_categorical('border_count', [128, 254]]),\n",
    "        #\"bootstrap_type\": trial.suggest_categorical(\"bootstrap_type\", [\"Bayesian\", \"Bernoulli\", \"MVS\", \"No\"]),\n",
    "        #'grow_policy': trial.suggest_categorical('grow_policy', [\"SymmetricTree\", \"Depthwise\", \"Lossguide\"]),\n",
    "        \n",
    "        #'od_wait':trial.suggest_int('od_wait', 500, 2000),\n",
    "        #'leaf_estimation_iterations': trial.suggest_int('leaf_estimation_iterations',1,15),\n",
    "        #\"cat_features\": trial.suggest_categorical(\"cat_features\", [\"cat_features\"])\n",
    "        \"loss_function\": trial.suggest_categorical(\"loss_function\", [\"MAE\"]),\n",
    "        \"use_best_model\": trial.suggest_categorical(\"use_best_model\", [True]),\n",
    "        \"eval_metric\": trial.suggest_categorical(\"eval_metric\", [\"MAE\"]),\n",
    "        \"random_state\": random_state\n",
    "    }\n",
    "    \n",
    "    #if params[\"bootstrap_type\"] == \"Bayesian\":\n",
    "    #    params[\"bagging_temperature\"] = trial.suggest_float(\"bagging_temperature\", 0, 10)\n",
    "    #elif params[\"bootstrap_type\"] == \"Bernoulli\":\n",
    "    #    params[\"subsample\"] = trial.suggest_float(\"subsample\", 0.1, 1, log=True)\n",
    "\n",
    "    cv = KFold(n_splits=N_FOLDS, shuffle=True, random_state=RAND)\n",
    "\n",
    "    cv_predicts = np.empty(N_FOLDS)\n",
    "    for idx, (train_idx, test_idx) in enumerate(cv.split(X, y)):\n",
    "        X_train, X_test = X.iloc[train_idx], X.iloc[test_idx]\n",
    "        y_train, y_test = y.iloc[train_idx], y.iloc[test_idx]\n",
    "        \n",
    "        train_data = Pool(data=X_train, label=y_train, cat_features=cat_feat)\n",
    "        eval_data = Pool(data=X_test, label=y_test, cat_features=cat_feat)\n",
    "        \n",
    "        model = CatBoostRegressor(**params)\n",
    "        model.fit(train_data,\n",
    "                  eval_set=eval_data,\n",
    "                  early_stopping_rounds=100,\n",
    "                  verbose=0)\n",
    "\n",
    "        preds = model.predict(X_test)\n",
    "        cv_predicts[idx] = mean_absolute_error(y_test, preds)\n",
    "\n",
    "    return np.mean(cv_predicts)"
   ]
  },
  {
   "cell_type": "code",
   "execution_count": 30,
   "id": "cdbae6ce",
   "metadata": {},
   "outputs": [
    {
     "name": "stderr",
     "output_type": "stream",
     "text": [
      "\u001b[32m[I 2022-09-24 14:18:13,565]\u001b[0m A new study created in memory with name: Cat_02\u001b[0m\n"
     ]
    },
    {
     "data": {
      "application/vnd.jupyter.widget-view+json": {
       "model_id": "1112a73d73954432b9ecc367204bb314",
       "version_major": 2,
       "version_minor": 0
      },
      "text/plain": [
       "  0%|          | 0/5 [00:00<?, ?it/s]"
      ]
     },
     "metadata": {},
     "output_type": "display_data"
    },
    {
     "name": "stdout",
     "output_type": "stream",
     "text": [
      "\u001b[32m[I 2022-09-24 14:25:18,177]\u001b[0m Trial 0 finished with value: 0.5925770009511081 and parameters: {'n_estimators': 100, 'learning_rate': 0.226934983753359, 'loss_function': 'MAE', 'use_best_model': True, 'eval_metric': 'MAE'}. Best is trial 0 with value: 0.5925770009511081.\u001b[0m\n",
      "\u001b[32m[I 2022-09-24 15:03:21,425]\u001b[0m Trial 1 finished with value: 0.5940711637831531 and parameters: {'n_estimators': 100, 'learning_rate': 0.2065171352079749, 'loss_function': 'MAE', 'use_best_model': True, 'eval_metric': 'MAE'}. Best is trial 0 with value: 0.5925770009511081.\u001b[0m\n",
      "\u001b[32m[I 2022-09-24 15:10:44,356]\u001b[0m Trial 2 finished with value: 0.772021490837719 and parameters: {'n_estimators': 100, 'learning_rate': 0.0018490305766545652, 'loss_function': 'MAE', 'use_best_model': True, 'eval_metric': 'MAE'}. Best is trial 0 with value: 0.5925770009511081.\u001b[0m\n",
      "\u001b[32m[I 2022-09-24 16:04:09,735]\u001b[0m Trial 3 finished with value: 0.6622579402615993 and parameters: {'n_estimators': 100, 'learning_rate': 0.014834723701632023, 'loss_function': 'MAE', 'use_best_model': True, 'eval_metric': 'MAE'}. Best is trial 0 with value: 0.5925770009511081.\u001b[0m\n",
      "\u001b[32m[I 2022-09-24 16:11:22,511]\u001b[0m Trial 4 finished with value: 0.630918707676693 and parameters: {'n_estimators': 100, 'learning_rate': 0.04232337516919079, 'loss_function': 'MAE', 'use_best_model': True, 'eval_metric': 'MAE'}. Best is trial 0 with value: 0.5925770009511081.\u001b[0m\n"
     ]
    }
   ],
   "source": [
    "# direction - Направление оптимизации\n",
    "# trail - выполняет оптимизацию для каждого гиперпараметра\n",
    "study_cat = optuna.create_study(direction=\"minimize\", study_name=\"Cat_02\")\n",
    "func = lambda trial: objective_lgb(\n",
    "    trial, X_train, y_train, N_FOLDS=N_FOLDS, random_state=RAND, cat_feat=cat_feat)\n",
    "# n_trials - кол-во итераций\n",
    "study_cat.optimize(func, n_trials=5, show_progress_bar=True)"
   ]
  },
  {
   "cell_type": "code",
   "execution_count": 31,
   "id": "2431bb56",
   "metadata": {},
   "outputs": [
    {
     "name": "stdout",
     "output_type": "stream",
     "text": [
      "\tBest value (mae): 0.59258\n",
      "\tBest params:\n",
      "\t\tn_estimators: 100\n",
      "\t\tlearning_rate: 0.226934983753359\n",
      "\t\tloss_function: MAE\n",
      "\t\tuse_best_model: True\n",
      "\t\teval_metric: MAE\n"
     ]
    }
   ],
   "source": [
    "print(f\"\\tBest value (mae): {study_cat.best_value:.5f}\")\n",
    "print(f\"\\tBest params:\")\n",
    "\n",
    "for key, value in study_cat.best_params.items():\n",
    "    print(f\"\\t\\t{key}: {value}\")"
   ]
  },
  {
   "cell_type": "code",
   "execution_count": 32,
   "id": "924f8c62",
   "metadata": {},
   "outputs": [
    {
     "data": {
      "text/html": [
       "<div>\n",
       "<style scoped>\n",
       "    .dataframe tbody tr th:only-of-type {\n",
       "        vertical-align: middle;\n",
       "    }\n",
       "\n",
       "    .dataframe tbody tr th {\n",
       "        vertical-align: top;\n",
       "    }\n",
       "\n",
       "    .dataframe thead th {\n",
       "        text-align: right;\n",
       "    }\n",
       "</style>\n",
       "<table border=\"1\" class=\"dataframe\">\n",
       "  <thead>\n",
       "    <tr style=\"text-align: right;\">\n",
       "      <th></th>\n",
       "      <th>MAE</th>\n",
       "      <th>MSE</th>\n",
       "      <th>RMSE</th>\n",
       "      <th>RMSLE</th>\n",
       "      <th>R2 adjusted</th>\n",
       "      <th>Huber_loss</th>\n",
       "    </tr>\n",
       "    <tr>\n",
       "      <th>model</th>\n",
       "      <th></th>\n",
       "      <th></th>\n",
       "      <th></th>\n",
       "      <th></th>\n",
       "      <th></th>\n",
       "      <th></th>\n",
       "    </tr>\n",
       "  </thead>\n",
       "  <tbody>\n",
       "    <tr>\n",
       "      <th>LinearRegression</th>\n",
       "      <td>9.108</td>\n",
       "      <td>265.723</td>\n",
       "      <td>16.301</td>\n",
       "      <td>0.780</td>\n",
       "      <td>0.302</td>\n",
       "      <td>59.382</td>\n",
       "    </tr>\n",
       "    <tr>\n",
       "      <th>Catboost</th>\n",
       "      <td>7.647</td>\n",
       "      <td>195.560</td>\n",
       "      <td>13.984</td>\n",
       "      <td>0.660</td>\n",
       "      <td>0.487</td>\n",
       "      <td>7.176</td>\n",
       "    </tr>\n",
       "    <tr>\n",
       "      <th>LGBMRegressor</th>\n",
       "      <td>7.968</td>\n",
       "      <td>225.845</td>\n",
       "      <td>15.028</td>\n",
       "      <td>0.714</td>\n",
       "      <td>0.408</td>\n",
       "      <td>7.515</td>\n",
       "    </tr>\n",
       "    <tr>\n",
       "      <th>CatBoost_Optuna</th>\n",
       "      <td>0.593</td>\n",
       "      <td>0.567</td>\n",
       "      <td>0.753</td>\n",
       "      <td>0.246</td>\n",
       "      <td>0.430</td>\n",
       "      <td>0.263</td>\n",
       "    </tr>\n",
       "  </tbody>\n",
       "</table>\n",
       "</div>"
      ],
      "text/plain": [
       "                    MAE      MSE    RMSE  RMSLE  R2 adjusted  Huber_loss\n",
       "model                                                                   \n",
       "LinearRegression  9.108  265.723  16.301  0.780        0.302      59.382\n",
       "Catboost          7.647  195.560  13.984  0.660        0.487       7.176\n",
       "LGBMRegressor     7.968  225.845  15.028  0.714        0.408       7.515\n",
       "CatBoost_Optuna   0.593    0.567   0.753  0.246        0.430       0.263"
      ]
     },
     "execution_count": 32,
     "metadata": {},
     "output_type": "execute_result"
    }
   ],
   "source": [
    "cat_optuna = CatBoostRegressor(**study_cat.best_params)\n",
    "cat_optuna.fit(X_train_,\n",
    "               y_train_,\n",
    "               cat_features=cat_features,\n",
    "               eval_set=eval_set,\n",
    "               verbose=False,\n",
    "               early_stopping_rounds=100)\n",
    "\n",
    "y_pred = cat_optuna.predict(X_test)\n",
    "\n",
    "metrics = metrics.append(\n",
    "    get_metrics(y_test=y_test.values,\n",
    "                y_pred=y_pred,\n",
    "                X_test=X_test,\n",
    "                name='CatBoost_Optuna',\n",
    "                delta=1))\n",
    "\n",
    "round(metrics.set_index('model'), 3)"
   ]
  },
  {
   "cell_type": "code",
   "execution_count": 33,
   "id": "aa11a40c",
   "metadata": {},
   "outputs": [
    {
     "name": "stdout",
     "output_type": "stream",
     "text": [
      "MSE train: 0.566\n",
      "MSE test: 0.567\n",
      "R2 adjusted: 0.430\n",
      "R2 adjusted: 0.430\n"
     ]
    }
   ],
   "source": [
    "check_overfitting(cat_optuna, X_train, y_train, X_test, y_test)"
   ]
  },
  {
   "cell_type": "markdown",
   "id": "9e29bd45",
   "metadata": {},
   "source": [
    "Посмотрим на более важные параметры при обучении модели "
   ]
  },
  {
   "cell_type": "code",
   "execution_count": 34,
   "id": "e18206a2",
   "metadata": {},
   "outputs": [
    {
     "data": {
      "image/png": "[encoded data removed]",
      "text/plain": [
       "<Figure size 432x288 with 1 Axes>"
      ]
     },
     "metadata": {
      "needs_background": "light"
     },
     "output_type": "display_data"
    }
   ],
   "source": [
    "from optuna.visualization.matplotlib import plot_param_importances\n",
    "from optuna.visualization import plot_optimization_history\n",
    "\n",
    "plot_param_importances(study_cat);"
   ]
  },
  {
   "cell_type": "markdown",
   "id": "f34d6750",
   "metadata": {},
   "source": [
    "#### Вывод:\n",
    "\n",
    "Наиболее важным параметром является скорость"
   ]
  },
  {
   "cell_type": "markdown",
   "id": "3fb44e82",
   "metadata": {},
   "source": [
    "Так как из трех моделей явно видно какой из них лучше, то используя его, можно составить рейтинг влияющих факторов на формирование коэффициента, используя метод permutation_importance"
   ]
  },
  {
   "cell_type": "code",
   "execution_count": 35,
   "id": "e67d3b56",
   "metadata": {},
   "outputs": [],
   "source": [
    "from sklearn.inspection import permutation_importance"
   ]
  },
  {
   "cell_type": "code",
   "execution_count": 36,
   "id": "a46db4e6",
   "metadata": {},
   "outputs": [],
   "source": [
    "# подсчет категориальных признаков\n",
    "r = permutation_importance(cat_optuna,\n",
    "                           X_test,\n",
    "                           y_test,\n",
    "                           n_repeats=4,\n",
    "                           random_state=RAND)"
   ]
  },
  {
   "cell_type": "code",
   "execution_count": 37,
   "id": "23b6e46c",
   "metadata": {},
   "outputs": [],
   "source": [
    "feature_imp = pd.DataFrame()\n",
    "feature_imp['column'] = X_test.columns\n",
    "feature_imp['value'] = r['importances_mean']\n",
    "feature_imp['2_std'] = 2*r['importances_std']\n",
    "\n",
    "feature_imp.sort_values(by='value', inplace=True, ascending=False)"
   ]
  },
  {
   "cell_type": "code",
   "execution_count": 38,
   "id": "06b538d2",
   "metadata": {},
   "outputs": [
    {
     "data": {
      "image/png": "[encoded data removed]",
      "text/plain": [
       "<Figure size 720x504 with 1 Axes>"
      ]
     },
     "metadata": {},
     "output_type": "display_data"
    }
   ],
   "source": [
    "plt.figure(figsize=(10, 7))\n",
    "sns.barplot(data=feature_imp[:15], x='value', y='column');"
   ]
  },
  {
   "cell_type": "markdown",
   "id": "c13fb5c2",
   "metadata": {},
   "source": [
    "#### Вывод:\n",
    "\n",
    "Самые влияющие факторы это:\n",
    "- жокей;\n",
    "- тип трассы;\n",
    "- вес на лошади;\n",
    "- месяц; \n",
    "- лошадь и т.д."
   ]
  },
  {
   "cell_type": "markdown",
   "id": "7fdeb932",
   "metadata": {},
   "source": [
    "Зная самые влияющие признаки, можно посмотреть значения коэффициента odds_log в них."
   ]
  },
  {
   "cell_type": "markdown",
   "id": "bf1456cd",
   "metadata": {},
   "source": [
    "1. Жокей"
   ]
  },
  {
   "cell_type": "code",
   "execution_count": 125,
   "id": "288388e1",
   "metadata": {},
   "outputs": [
    {
     "data": {
      "image/png": "[encoded data removed]",
      "text/plain": [
       "<Figure size 1080x360 with 1 Axes>"
      ]
     },
     "metadata": {
      "needs_background": "light"
     },
     "output_type": "display_data"
    }
   ],
   "source": [
    "df.jockey.value_counts()[0:10].plot(kind='bar',figsize=(15,5));"
   ]
  },
  {
   "cell_type": "markdown",
   "id": "b72b8e76",
   "metadata": {},
   "source": [
    "Жокеев очень много. Можно посмотреть на распределения значений коэффициента топ-3 жокеев."
   ]
  },
  {
   "cell_type": "code",
   "execution_count": 126,
   "id": "0b9ca150",
   "metadata": {
    "scrolled": false
   },
   "outputs": [
    {
     "data": {
      "image/png": "[encoded data removed]",
      "text/plain": [
       "<Figure size 468.75x360 with 1 Axes>"
      ]
     },
     "metadata": {
      "needs_background": "light"
     },
     "output_type": "display_data"
    }
   ],
   "source": [
    "sns.displot(\n",
    "    {\n",
    "        \"Manuel Franco\": df[df.jockey == 'Manuel Franco'].odds_log,\n",
    "        \"Dylan Davis\": df[df.jockey == 'Dylan Davis'].odds_log,\n",
    "        \"Jose Lezcano\": df[df.jockey == 'Jose Lezcano'].odds_log\n",
    "    },\n",
    "    kind=\"kde\",\n",
    "    common_norm=False,\n",
    "    palette='Set1'\n",
    ")\n",
    "\n",
    "plt.title('Распределения коэффицентов ТОП-3 жокеев', fontsize=20)\n",
    "plt.xlabel('Коэффициент', fontsize=14)\n",
    "plt.ylabel('Плотность', fontsize=14)\n",
    "\n",
    "plt.xticks(fontsize=14)\n",
    "plt.yticks(fontsize=14);"
   ]
  },
  {
   "cell_type": "markdown",
   "id": "ab9cd6bc",
   "metadata": {},
   "source": [
    "По графику видно, что жокей влияет на формирование коэффициента. У Manuel Franco и Jose Lezcano коэффициенты получше, чем у Dylan Davis, хоть он и второй по количеству участий в гонках."
   ]
  },
  {
   "cell_type": "markdown",
   "id": "51cd010a",
   "metadata": {},
   "source": [
    "2. Тип трассы"
   ]
  },
  {
   "cell_type": "code",
   "execution_count": 104,
   "id": "53055e0f",
   "metadata": {},
   "outputs": [
    {
     "data": {
      "image/png": "[encoded data removed]",
      "text/plain": [
       "<Figure size 1080x432 with 1 Axes>"
      ]
     },
     "metadata": {
      "needs_background": "light"
     },
     "output_type": "display_data"
    }
   ],
   "source": [
    "plt.figure(figsize=(15, 6))\n",
    "\n",
    "sns.boxplot(x='course_type', y='odds_log', \n",
    "            data=df, palette='Set1')\n",
    "\n",
    "plt.title('Тип трассы и коэффициенты', fontsize=20)\n",
    "plt.ylabel('Odds_log', fontsize=14)\n",
    "plt.xlabel('Course_type', fontsize=14)\n",
    "\n",
    "plt.xticks(fontsize=14)\n",
    "plt.yticks(fontsize=14);"
   ]
  },
  {
   "cell_type": "markdown",
   "id": "9102d4e0",
   "metadata": {},
   "source": [
    "В среднем коэффициенты +/- одинаковые. Чуть больше коэффициенты на трассе О (внешний газон), лучше коэффициенты на трассе D (грязь)."
   ]
  },
  {
   "cell_type": "markdown",
   "id": "aef4b977",
   "metadata": {},
   "source": [
    "3. Вес на лошади"
   ]
  },
  {
   "cell_type": "code",
   "execution_count": 119,
   "id": "018b0c2a",
   "metadata": {
    "scrolled": false
   },
   "outputs": [
    {
     "data": {
      "image/png": "[encoded data removed]",
      "text/plain": [
       "<Figure size 1080x432 with 1 Axes>"
      ]
     },
     "metadata": {
      "needs_background": "light"
     },
     "output_type": "display_data"
    }
   ],
   "source": [
    "plt.figure(figsize=(15, 6))\n",
    "\n",
    "sns.boxplot(x='weight_carried', y='odds_log', \n",
    "            data=df, palette='Set1')\n",
    "\n",
    "plt.title('Вес и коэффициенты', fontsize=20)\n",
    "plt.ylabel('Odds_log', fontsize=14)\n",
    "plt.xlabel('Вес', fontsize=14)\n",
    "\n",
    "plt.xticks(fontsize=14)\n",
    "plt.yticks(fontsize=14);"
   ]
  },
  {
   "cell_type": "markdown",
   "id": "92fada39",
   "metadata": {},
   "source": [
    "До 59 кг видно, как с увеличением веса улучшается коэффициент. \n",
    "\n",
    "А начиная с 63 кг закономерности не наблюдается."
   ]
  },
  {
   "cell_type": "markdown",
   "id": "19e02a55",
   "metadata": {},
   "source": [
    "4. Месяц"
   ]
  },
  {
   "cell_type": "code",
   "execution_count": 121,
   "id": "c3d023a6",
   "metadata": {},
   "outputs": [
    {
     "data": {
      "image/png": "[encoded data removed]",
      "text/plain": [
       "<Figure size 1080x432 with 1 Axes>"
      ]
     },
     "metadata": {
      "needs_background": "light"
     },
     "output_type": "display_data"
    }
   ],
   "source": [
    "plt.figure(figsize=(15, 6))\n",
    "\n",
    "sns.boxplot(x='month', y='odds_log', data=df,\n",
    "            palette='Set1')\n",
    "\n",
    "plt.ylabel('Odds_log', fontsize=14)\n",
    "plt.xlabel('Month', fontsize=14)\n",
    "\n",
    "plt.xticks(fontsize=14)\n",
    "plt.yticks(fontsize=14);"
   ]
  },
  {
   "cell_type": "markdown",
   "id": "c5dc4911",
   "metadata": {},
   "source": [
    "Лучше коэффициенты в феврале(2), июне (6). Похуже в ноябре (11)."
   ]
  },
  {
   "cell_type": "markdown",
   "id": "cf493542",
   "metadata": {},
   "source": [
    "5. Лошадь"
   ]
  },
  {
   "cell_type": "code",
   "execution_count": 123,
   "id": "2b7df74b",
   "metadata": {},
   "outputs": [
    {
     "data": {
      "image/png": "[encoded data removed]",
      "text/plain": [
       "<Figure size 1080x432 with 1 Axes>"
      ]
     },
     "metadata": {
      "needs_background": "light"
     },
     "output_type": "display_data"
    }
   ],
   "source": [
    "plt.figure(figsize=(15, 6))\n",
    "\n",
    "sns.boxplot(x='program_number', y='odds_log', data=df, \n",
    "            palette='Set1')\n",
    "\n",
    "plt.ylabel('Odds_log', fontsize=14)\n",
    "plt.xlabel('Program_number', fontsize=14)\n",
    "\n",
    "plt.xticks(fontsize=14)\n",
    "plt.yticks(fontsize=14);"
   ]
  },
  {
   "cell_type": "markdown",
   "id": "c63e6bf3",
   "metadata": {},
   "source": [
    "Как ранее было написано в EDA-анализе: 1X, 3X 16, 2B - совсем новички. \n",
    "\n",
    "Чем больше диапазон, тем больше раз лошадь принимала участие в соревнованиях."
   ]
  }
 ],
 "metadata": {
  "colab": {
   "provenance": []
  },
  "kernelspec": {
   "display_name": "Python 3 (ipykernel)",
   "language": "python",
   "name": "python3"
  },
  "language_info": {
   "codemirror_mode": {
    "name": "ipython",
    "version": 3
   },
   "file_extension": ".py",
   "mimetype": "text/x-python",
   "name": "python",
   "nbconvert_exporter": "python",
   "pygments_lexer": "ipython3",
   "version": "3.9.7"
  },
  "toc": {
   "base_numbering": 1,
   "nav_menu": {},
   "number_sections": true,
   "sideBar": true,
   "skip_h1_title": false,
   "title_cell": "Table of Contents",
   "title_sidebar": "Contents",
   "toc_cell": false,
   "toc_position": {},
   "toc_section_display": true,
   "toc_window_display": true
  }
 },
 "nbformat": 4,
 "nbformat_minor": 5
}
